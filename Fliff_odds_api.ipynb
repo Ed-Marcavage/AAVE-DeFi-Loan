{
  "nbformat": 4,
  "nbformat_minor": 0,
  "metadata": {
    "colab": {
      "provenance": [],
      "include_colab_link": true
    },
    "kernelspec": {
      "name": "python3",
      "display_name": "Python 3"
    },
    "language_info": {
      "name": "python"
    }
  },
  "cells": [
    {
      "cell_type": "markdown",
      "metadata": {
        "id": "view-in-github",
        "colab_type": "text"
      },
      "source": [
        "<a href=\"https://colab.research.google.com/github/Ed-Marcavage/AAVE-DeFi-Loan/blob/main/Fliff_odds_api.ipynb\" target=\"_parent\"><img src=\"https://colab.research.google.com/assets/colab-badge.svg\" alt=\"Open In Colab\"/></a>"
      ]
    },
    {
      "cell_type": "markdown",
      "source": [
        "#Set up Arrays for Markets/Props"
      ],
      "metadata": {
        "id": "P8b-iV_ZC5OF"
      }
    },
    {
      "cell_type": "code",
      "source": [
        "# https://github.com/MidpriceDog/the-odds-api-client/blob/main/src/theoddsapi/api.py\n",
        "\n",
        "Main_Markets =  ['h2h', 'spreads', 'totals', 'outrights', 'h2h_lay', 'outrights_lay']\n",
        "Additional_Markets = ['alternate_spreads', 'alternate_totals', 'btts', 'draw_no_bet', 'h2h_3_way']\n",
        "\n",
        "\n",
        "\n",
        "American_Football = [\n",
        "    \"player_pass_tds\", \"player_pass_yds\", \"player_pass_completions\",\n",
        "    \"player_pass_attempts\", \"player_pass_interceptions\",\n",
        "    \"player_pass_longest_completion\", \"player_rush_yds\",\n",
        "    \"player_rush_attempts\", \"player_rush_longest\", \"player_receptions\",\n",
        "    \"player_reception_yds\", \"player_reception_longest\",\n",
        "    \"player_kicking_points\", \"player_field_goals\", \"player_tackles_assists\",\n",
        "    \"player_1st_td\", \"player_last_td\", \"player_anytime_td\"\n",
        "]\n",
        "\n",
        "Basketball = [\n",
        "    \"player_points\", \"player_rebounds\", \"player_assists\", \"player_threes\",\n",
        "    \"player_double_double\", \"player_blocks\", \"player_steals\",\n",
        "    \"player_turnovers\", \"player_points_rebounds_assists\",\n",
        "    \"player_points_rebounds\", \"player_points_assists\",\n",
        "    \"player_rebounds_assists\"\n",
        "]\n",
        "\n",
        "Baseball = [\n",
        "    \"batter_home_runs\", \"batter_hits\", \"batter_total_bases\",\n",
        "    \"batter_rbis\", \"batter_runs_scored\", \"batter_hits_runs_rbis\",\n",
        "    \"batter_singles\", \"batter_doubles\", \"batter_triples\", \"batter_walks\",\n",
        "    \"batter_strikeouts\", \"batter_stolen_bases\", \"pitcher_strikeouts\",\n",
        "    \"pitcher_record_a_win\", \"pitcher_hits_allowed\", \"pitcher_walks\",\n",
        "    \"pitcher_earned_runs\", \"pitcher_outs\"\n",
        "]\n",
        "\n",
        "Ice_Hockey = [\n",
        "    \"player_points\", \"player_power_play_points\", \"player_assists\",\n",
        "    \"player_blocked_shots\", \"player_shots_on_goal\", \"player_total_saves\",\n",
        "    \"player_goal_scorer_first\", \"player_goal_scorer_last\",\n",
        "    \"player_goal_scorer_anytime\"\n",
        "]\n",
        "\n",
        "Soccer = [\n",
        "    \"player_disposals\", \"player_disposals_over\", \"player_goal_scorer_first\",\n",
        "    \"player_goal_scorer_last\", \"player_goal_scorer_anytime\",\n",
        "    \"player_goals_scored_over\"\n",
        "]"
      ],
      "metadata": {
        "id": "DrOToHc0ByQ0"
      },
      "execution_count": null,
      "outputs": []
    },
    {
      "cell_type": "markdown",
      "source": [
        "#GET inseason sports\n"
      ],
      "metadata": {
        "id": "kFNW9QN6grIT"
      }
    },
    {
      "cell_type": "code",
      "source": [
        "API_KEY = '4341a3549546f9b9af3e5946680a26c9'\n",
        "HOST = 'https://api.the-odds-api.com'\n",
        "\n",
        "\n",
        "import requests\n",
        "\n",
        "def get_sports():\n",
        "  sports_response = requests.get('https://api.the-odds-api.com/v4/sports', params={\n",
        "      'api_key': API_KEY\n",
        "  })\n",
        "  json_array = sports_response.json()\n",
        "  key_group_list = [{'key': entry['key'], 'group': entry['group']} for entry in json_array]\n",
        "  return key_group_list\n",
        "\n",
        "get_sports()"
      ],
      "metadata": {
        "id": "RtbbLuq8gf2k",
        "colab": {
          "base_uri": "https://localhost:8080/"
        },
        "outputId": "7288c954-db21-462d-bd23-eefdebc64f89"
      },
      "execution_count": null,
      "outputs": [
        {
          "output_type": "execute_result",
          "data": {
            "text/plain": [
              "[{'key': 'americanfootball_cfl', 'group': 'American Football'},\n",
              " {'key': 'americanfootball_ncaaf', 'group': 'American Football'},\n",
              " {'key': 'americanfootball_ncaaf_championship_winner',\n",
              "  'group': 'American Football'},\n",
              " {'key': 'americanfootball_nfl', 'group': 'American Football'},\n",
              " {'key': 'americanfootball_nfl_super_bowl_winner',\n",
              "  'group': 'American Football'},\n",
              " {'key': 'basketball_euroleague', 'group': 'Basketball'},\n",
              " {'key': 'basketball_nba', 'group': 'Basketball'},\n",
              " {'key': 'basketball_nba_championship_winner', 'group': 'Basketball'},\n",
              " {'key': 'basketball_ncaab', 'group': 'Basketball'},\n",
              " {'key': 'basketball_ncaab_championship_winner', 'group': 'Basketball'},\n",
              " {'key': 'boxing_boxing', 'group': 'Boxing'},\n",
              " {'key': 'cricket_icc_world_cup', 'group': 'Cricket'},\n",
              " {'key': 'golf_masters_tournament_winner', 'group': 'Golf'},\n",
              " {'key': 'golf_pga_championship_winner', 'group': 'Golf'},\n",
              " {'key': 'golf_the_open_championship_winner', 'group': 'Golf'},\n",
              " {'key': 'golf_us_open_winner', 'group': 'Golf'},\n",
              " {'key': 'icehockey_nhl', 'group': 'Ice Hockey'},\n",
              " {'key': 'icehockey_nhl_championship_winner', 'group': 'Ice Hockey'},\n",
              " {'key': 'icehockey_sweden_allsvenskan', 'group': 'Ice Hockey'},\n",
              " {'key': 'icehockey_sweden_hockey_league', 'group': 'Ice Hockey'},\n",
              " {'key': 'mma_mixed_martial_arts', 'group': 'Mixed Martial Arts'},\n",
              " {'key': 'politics_us_presidential_election_winner', 'group': 'Politics'},\n",
              " {'key': 'soccer_australia_aleague', 'group': 'Soccer'},\n",
              " {'key': 'soccer_austria_bundesliga', 'group': 'Soccer'},\n",
              " {'key': 'soccer_belgium_first_div', 'group': 'Soccer'},\n",
              " {'key': 'soccer_brazil_campeonato', 'group': 'Soccer'},\n",
              " {'key': 'soccer_brazil_serie_b', 'group': 'Soccer'},\n",
              " {'key': 'soccer_chile_campeonato', 'group': 'Soccer'},\n",
              " {'key': 'soccer_denmark_superliga', 'group': 'Soccer'},\n",
              " {'key': 'soccer_efl_champ', 'group': 'Soccer'},\n",
              " {'key': 'soccer_england_league1', 'group': 'Soccer'},\n",
              " {'key': 'soccer_england_league2', 'group': 'Soccer'},\n",
              " {'key': 'soccer_epl', 'group': 'Soccer'},\n",
              " {'key': 'soccer_fa_cup', 'group': 'Soccer'},\n",
              " {'key': 'soccer_fifa_world_cup_winner', 'group': 'Soccer'},\n",
              " {'key': 'soccer_france_ligue_one', 'group': 'Soccer'},\n",
              " {'key': 'soccer_france_ligue_two', 'group': 'Soccer'},\n",
              " {'key': 'soccer_germany_bundesliga', 'group': 'Soccer'},\n",
              " {'key': 'soccer_germany_bundesliga2', 'group': 'Soccer'},\n",
              " {'key': 'soccer_germany_liga3', 'group': 'Soccer'},\n",
              " {'key': 'soccer_greece_super_league', 'group': 'Soccer'},\n",
              " {'key': 'soccer_italy_serie_a', 'group': 'Soccer'},\n",
              " {'key': 'soccer_italy_serie_b', 'group': 'Soccer'},\n",
              " {'key': 'soccer_japan_j_league', 'group': 'Soccer'},\n",
              " {'key': 'soccer_korea_kleague1', 'group': 'Soccer'},\n",
              " {'key': 'soccer_mexico_ligamx', 'group': 'Soccer'},\n",
              " {'key': 'soccer_netherlands_eredivisie', 'group': 'Soccer'},\n",
              " {'key': 'soccer_norway_eliteserien', 'group': 'Soccer'},\n",
              " {'key': 'soccer_poland_ekstraklasa', 'group': 'Soccer'},\n",
              " {'key': 'soccer_portugal_primeira_liga', 'group': 'Soccer'},\n",
              " {'key': 'soccer_spain_la_liga', 'group': 'Soccer'},\n",
              " {'key': 'soccer_spain_segunda_division', 'group': 'Soccer'},\n",
              " {'key': 'soccer_spl', 'group': 'Soccer'},\n",
              " {'key': 'soccer_sweden_allsvenskan', 'group': 'Soccer'},\n",
              " {'key': 'soccer_sweden_superettan', 'group': 'Soccer'},\n",
              " {'key': 'soccer_switzerland_superleague', 'group': 'Soccer'},\n",
              " {'key': 'soccer_turkey_super_league', 'group': 'Soccer'},\n",
              " {'key': 'soccer_uefa_champs_league', 'group': 'Soccer'},\n",
              " {'key': 'soccer_uefa_euro_qualification', 'group': 'Soccer'},\n",
              " {'key': 'soccer_uefa_europa_conference_league', 'group': 'Soccer'},\n",
              " {'key': 'soccer_uefa_europa_league', 'group': 'Soccer'},\n",
              " {'key': 'soccer_usa_mls', 'group': 'Soccer'}]"
            ]
          },
          "metadata": {},
          "execution_count": 2
        }
      ]
    },
    {
      "cell_type": "markdown",
      "source": [
        "#GET odds"
      ],
      "metadata": {
        "id": "NkR38QrJhYF1"
      }
    },
    {
      "cell_type": "code",
      "source": [
        "BOOKMAKERS = 'fliff'\n",
        "SPORT = 'upcoming'\n",
        "REGIONS = 'us'\n",
        "MARKETS = 'player_points'\n",
        "ODDS_FORMAT = 'american'\n",
        "DATE_FORMAT = 'iso'\n",
        "\n",
        "\n",
        "\n",
        "from IPython.utils.text import string\n",
        "inseason_sports = get_sports()\n",
        "\n",
        "def get_event_by_sport_id(sport_id: string):\n",
        "    DEBUG = False  # Add a DEBUG variable\n",
        "    eventsDict = {}  # Dictionary to store the desired output\n",
        "\n",
        "    response = requests.get(f'{HOST}/v4/sports/{sport_id}/odds?regions=us&oddsFormat=american&apiKey={API_KEY}', params={\n",
        "        'api_key': API_KEY,\n",
        "        'regions': REGIONS,\n",
        "        'bookmakers': BOOKMAKERS,\n",
        "        'oddsFormat': ODDS_FORMAT,\n",
        "        'dateFormat': DATE_FORMAT,\n",
        "    })\n",
        "\n",
        "    if response.status_code == 200:\n",
        "        if DEBUG:\n",
        "            print('Remaining requests', response.headers['x-requests-remaining'])\n",
        "            print('Used requests', response.headers['x-requests-used'])\n",
        "\n",
        "        try:\n",
        "            odds_json = response.json()\n",
        "            if isinstance(odds_json, list):\n",
        "                if DEBUG:\n",
        "                    print(odds_json)\n",
        "\n",
        "                for game in odds_json:\n",
        "                    if 'bookmakers' in game and game['bookmakers']:\n",
        "                        matchup = f\"{game['home_team']} Vs. {game['away_team']}\"\n",
        "                        eventsDict[game['id']] = matchup\n",
        "\n",
        "                if DEBUG:\n",
        "                    print(eventsDict)\n",
        "\n",
        "                return eventsDict\n",
        "            else:\n",
        "                print(\"Error: Expected a list of games, but got a different structure.\")\n",
        "        except ValueError as e:\n",
        "            print(f\"Error parsing JSON: {e}\")\n",
        "    else:\n",
        "        print(f\"Error fetching odds: {response.status_code} - {response.text}\")\n",
        "\n",
        "    return eventsDict\n",
        "\n",
        "# Example usage\n",
        "dicts = get_event_by_sport_id('basketball_nba')\n",
        "dicts # dicts.keys()"
      ],
      "metadata": {
        "id": "xmMW08dNgf5C",
        "colab": {
          "base_uri": "https://localhost:8080/"
        },
        "outputId": "d42b6232-8297-4a8d-cbcc-243de0ea09c5"
      },
      "execution_count": null,
      "outputs": [
        {
          "output_type": "execute_result",
          "data": {
            "text/plain": [
              "{'6233b9e0df48bf585535b92f15123e7e': 'Washington Wizards Vs. Charlotte Hornets',\n",
              " '72de431fd4f2a88f58e890aa545a7448': 'Detroit Pistons Vs. Philadelphia 76ers',\n",
              " '5b706c9e0bbfcd2b849fa2fdc443405d': 'Boston Celtics Vs. Brooklyn Nets',\n",
              " '3b9847b6a31858b5aba20d288285e6de': 'Houston Rockets Vs. New Orleans Pelicans',\n",
              " '2da12f3fee80f5e860fdc7d51952cdd9': 'Memphis Grizzlies Vs. Utah Jazz',\n",
              " '59f56a1f7daea4a05f6e910e20e46fa4': 'San Antonio Spurs Vs. Minnesota Timberwolves',\n",
              " '75747044931e93bcbce24e621ad5a955': 'Dallas Mavericks Vs. Los Angeles Clippers',\n",
              " '6ad8766c5f3155254bfa84ed90d651e4': 'Phoenix Suns Vs. Los Angeles Lakers',\n",
              " '5bed4141137a012e967fcdc781ab18d9': 'Sacramento Kings Vs. Oklahoma City Thunder'}"
            ]
          },
          "metadata": {},
          "execution_count": 3
        }
      ]
    },
    {
      "cell_type": "markdown",
      "source": [
        "#GET props"
      ],
      "metadata": {
        "id": "UiiZCikjN-O3"
      }
    },
    {
      "cell_type": "code",
      "source": [
        "import array\n",
        "def get_player_props(sport_id: string, eventId: string, markets: array):\n",
        "\n",
        "  response = requests.get(f'{HOST}/v4/sports/{sport_id}/events/{eventId}/odds?regions={REGIONS}', params={\n",
        "      'api_key': API_KEY,\n",
        "      'markets': ','.join(markets),\n",
        "      'bookmakers':BOOKMAKERS,\n",
        "      'oddsFormat': ODDS_FORMAT,\n",
        "      'dateFormat': DATE_FORMAT,\n",
        "  })\n",
        "\n",
        "  if int(response.headers['x-requests-remaining']) < 25:\n",
        "    return 401\n",
        "\n",
        "  if response.status_code == 200:\n",
        "    odds_json = response.json()\n",
        "    return odds_json['bookmakers']\n",
        "\n",
        "  else:\n",
        "    print(f\"Error fetching odds: {response.status_code} - {response.text}\")\n",
        "\n",
        "\n",
        "\n",
        "\n",
        "\n",
        "props_json = get_player_props('basketball_nba', '6233b9e0df48bf585535b92f15123e7e', Basketball)\n",
        "props_json\n"
      ],
      "metadata": {
        "id": "Eb6j6-QRrKT1"
      },
      "execution_count": null,
      "outputs": []
    },
    {
      "cell_type": "markdown",
      "source": [
        "# Main Program"
      ],
      "metadata": {
        "id": "LRxDvv45OEmA"
      }
    },
    {
      "cell_type": "code",
      "source": [
        "#'Cricket', 'Boxing', 'Mixed Martial Arts', 'Basketball', 'Golf', 'Ice Hockey', 'Soccer', 'American Football', 'Politics'\n",
        "\n",
        "import json\n",
        "\n",
        "group_properties_mapping = {\n",
        "    'American Football': American_Football,\n",
        "    'Basketball': Basketball,\n",
        "    'Ice Hockey': Ice_Hockey,\n",
        "    'Soccer': Soccer\n",
        "}\n",
        "\n",
        "class RateLimitReached(Exception):\n",
        "    pass\n",
        "\n",
        "\n",
        "if __name__ == \"__main__\":\n",
        "    try:\n",
        "      inseason_sports = get_sports()\n",
        "\n",
        "      # Step 2: Get all event IDs for each unique key\n",
        "      all_event_ids = {}\n",
        "      for sport in inseason_sports:\n",
        "          sport_key = sport['key']\n",
        "          events_and_teams = get_event_by_sport_id(sport_key)\n",
        "          all_event_ids[sport_key] = events_and_teams.keys()\n",
        "\n",
        "      # Step 3: Get all player props and add to master JSON structured by sport key\n",
        "      master_json = {}  # This is now a dictionary, not a list\n",
        "      for sport_key, event_ids in all_event_ids.items():\n",
        "          group = next((item['group'] for item in inseason_sports if item['key'] == sport_key), None)\n",
        "          if group:\n",
        "              markets = group_properties_mapping.get(group, [])\n",
        "              for event_id in event_ids:\n",
        "                  props = get_player_props(sport_key, event_id, markets)\n",
        "                  if props == 401:\n",
        "                    raise RateLimitReached\n",
        "                  if props:  # Only append if 'bookmakers' is not empty\n",
        "                      # Initialize the list for this sport key if not already done\n",
        "                      if sport_key not in master_json:\n",
        "                          master_json[sport_key] = []  # Initialize a list for the sport_key if it doesn't exist\n",
        "                      master_json[sport_key].append(props)  # Append props to the list under the sport_key\n",
        "\n",
        "      # Step 4: Write the master JSON to a file, structured by sport keys\n",
        "      with open('master_props.json', 'w') as outfile:\n",
        "          json.dump(master_json, outfile)\n",
        "\n",
        "    except RateLimitReached:\n",
        "        with open('master_props.json', 'w') as outfile:\n",
        "            json.dump(master_json, outfile)\n",
        "        print(\"RateLimitReached  -> Data saved to 'master_props.json'.\")\n",
        "\n",
        "\n",
        "\n",
        "#498 -> 258"
      ],
      "metadata": {
        "id": "nL6HG_gwAVCu"
      },
      "execution_count": null,
      "outputs": []
    }
  ]
}